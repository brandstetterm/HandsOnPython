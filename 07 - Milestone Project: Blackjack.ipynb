{
 "cells": [
  {
   "cell_type": "markdown",
   "metadata": {
    "collapsed": true,
    "pycharm": {
     "name": "#%% md\n"
    }
   },
   "source": [
    "# Milestone Project: Blackjack\n",
    "\n",
    "- Player starts with 2 cards face up\n",
    "- Dealer starts with 1 card face down and 1 face up\n",
    "- Player goes first in gameplay\n",
    "- Player goal: Get closer to a total value of 21 than the dealer does. Possible actions: (Hit and Stay)\n",
    "- After player turn: If player is under 21, dealer then hits until more or equal 17 points\n",
    "- Sepcial Rules: Face Cards (Jack, Queen, King) count as a value of 10 and Aces count as either 1 or 11 (whichever player picks)"
   ]
  },
  {
   "cell_type": "code",
   "execution_count": 54,
   "metadata": {},
   "outputs": [],
   "source": [
    "from random import shuffle as random_shuffle\n",
    "from IPython.display import clear_output"
   ]
  },
  {
   "cell_type": "code",
   "execution_count": null,
   "metadata": {
    "pycharm": {
     "name": "#%%"
    }
   },
   "outputs": [],
   "source": []
  },
  {
   "cell_type": "code",
   "execution_count": 55,
   "metadata": {},
   "outputs": [],
   "source": [
    "class Card():\n",
    "    \n",
    "    def __init__(self, suit, rank, value):\n",
    "        self.suit = suit\n",
    "        self.rank = rank\n",
    "        self.value = value\n",
    "        \n",
    "    def __str__(self):\n",
    "        return f\"{self.suit} {self.rank} ({self.value})\"\n",
    "    \n",
    "    def __repr__(self):\n",
    "        return str(self)"
   ]
  },
  {
   "cell_type": "code",
   "execution_count": 56,
   "metadata": {},
   "outputs": [],
   "source": [
    "class Deck(list):\n",
    "    \n",
    "    suits = ('Hearts', 'Diamonds', 'Spades', 'Clubs')\n",
    "    values = {'Two': 2, 'Three': 3, 'Four': 4, 'Five': 5, 'Six': 6, 'Seven': 7, 'Eight': 8, 'Nine': 9, 'Ten': 10, 'Jack': 10, 'Queen': 10, 'King': 10, 'Ace': 11}\n",
    "    \n",
    "    def __init__(self):\n",
    "        super().__init__(Card(suit, rank, value) for suit in Deck.suits for rank, value in Deck.values.items())\n",
    "        self.shuffle()\n",
    "        \n",
    "    def get_n_cards(self, n):\n",
    "        if len(self) >= n:\n",
    "            self.__init__()\n",
    "        return [self.pop() for _ in range(n)]\n",
    "            \n",
    "    \n",
    "    def shuffle(self):\n",
    "        random_shuffle(self)"
   ]
  },
  {
   "cell_type": "code",
   "execution_count": 57,
   "metadata": {},
   "outputs": [],
   "source": [
    "class Hand(list):\n",
    "    \n",
    "    def __init__(self, *cards):\n",
    "        super().__init__(card for card in cards)\n",
    "    \n",
    "    def add_cards(self, cards):\n",
    "        self.extend(cards)\n",
    "        \n",
    "    def throw(self):\n",
    "        self.clear()\n",
    "        \n",
    "    def get_sum(self):\n",
    "        return sum(card.value for card in self)\n",
    "        \n",
    "    def __str__(self):\n",
    "        return ', '.join(str(card) for card in self)"
   ]
  },
  {
   "cell_type": "code",
   "execution_count": null,
   "metadata": {},
   "outputs": [],
   "source": []
  },
  {
   "cell_type": "code",
   "execution_count": 58,
   "metadata": {},
   "outputs": [],
   "source": [
    "class Player():\n",
    "    \n",
    "    def __init__(self, name, balance):\n",
    "        self.name = name\n",
    "        self.balance = balance\n",
    "        self.hand = Hand()\n",
    "        \n",
    "    def deposit(self, amount):\n",
    "        self.balance += amount\n",
    "        \n",
    "    def withdraw(self, amount):\n",
    "        self.balance -= amount\n",
    "        \n",
    "    def add_cards_to_hand(self, card):\n",
    "        self.hand.add_cards(card)\n",
    "        \n",
    "    def throw_hand(self):\n",
    "        self.hand.throw()\n",
    "        \n",
    "    def get_hand_sum(self):\n",
    "        return self.hand.get_sum()\n",
    "        \n",
    "    def __str__(self):\n",
    "        return f\"{self.name} with {self.balance}€\""
   ]
  },
  {
   "cell_type": "code",
   "execution_count": 59,
   "metadata": {},
   "outputs": [],
   "source": [
    "class NotEnoughMoneyError(Exception):\n",
    "    def __init__(self):\n",
    "        super().__init__(\"You do not have enough money!\")"
   ]
  },
  {
   "cell_type": "code",
   "execution_count": 60,
   "metadata": {},
   "outputs": [],
   "source": [
    "def get_players_information():\n",
    "    player_name = input(\"Enter your name: \")\n",
    "    while True:\n",
    "        try:\n",
    "            player_balance = float(input(\"Enter your balance: \"))\n",
    "        except ValueError:\n",
    "            print(\"Please enter a valid balance!\")\n",
    "            continue\n",
    "        else:\n",
    "            break\n",
    "    return Player(player_name, player_balance)"
   ]
  },
  {
   "cell_type": "code",
   "execution_count": 61,
   "metadata": {},
   "outputs": [],
   "source": [
    "def get_player_round_deposit(player):\n",
    "    while True:\n",
    "        try:\n",
    "            amount = int(input(\"With how much money do you want to play this round? \"))\n",
    "            if amount > player.balance:\n",
    "                raise NotEnoughMoneyError\n",
    "        except ValueError:\n",
    "            print(\"Please enter a valid amount!\")\n",
    "        except NotEnoughMoneyError as err:\n",
    "            print(err)\n",
    "        else:\n",
    "            break\n",
    "    return amount"
   ]
  },
  {
   "cell_type": "code",
   "execution_count": 62,
   "metadata": {},
   "outputs": [],
   "source": [
    "def get_player_action():\n",
    "    return input(\"Hit or stay? h/s \").lower().startswith(\"h\")"
   ]
  },
  {
   "cell_type": "code",
   "execution_count": null,
   "metadata": {},
   "outputs": [],
   "source": []
  },
  {
   "cell_type": "code",
   "execution_count": null,
   "metadata": {},
   "outputs": [],
   "source": []
  },
  {
   "cell_type": "code",
   "execution_count": 63,
   "metadata": {},
   "outputs": [],
   "source": [
    "def replay():\n",
    "    return input(\"Do you want to play another round? Y/n\").lower().startswith('y')"
   ]
  },
  {
   "cell_type": "code",
   "execution_count": 64,
   "metadata": {},
   "outputs": [],
   "source": [
    "def replay_with_deposit():\n",
    "    return input(\"You don't have enough money for another round. Do you want to deposit new money? Y/n\").lower().startswith('y')"
   ]
  },
  {
   "cell_type": "code",
   "execution_count": null,
   "metadata": {},
   "outputs": [],
   "source": []
  },
  {
   "cell_type": "code",
   "execution_count": null,
   "metadata": {},
   "outputs": [],
   "source": []
  },
  {
   "cell_type": "code",
   "execution_count": null,
   "metadata": {},
   "outputs": [],
   "source": []
  },
  {
   "cell_type": "code",
   "execution_count": null,
   "metadata": {},
   "outputs": [],
   "source": []
  },
  {
   "cell_type": "code",
   "execution_count": null,
   "metadata": {},
   "outputs": [
    {
     "name": "stdout",
     "output_type": "stream",
     "text": [
      "The dealers first card is Diamonds Five (5)\n",
      "Manuel, your current hand is: Diamonds Four (4), Diamonds Six (6)\n",
      "\n",
      "Hit or stay? h/s h\n",
      "You pulled Spades Nine (9)\n",
      "Manuel, your current hand is: Diamonds Four (4), Diamonds Six (6), Spades Nine (9)\n",
      "\n"
     ]
    }
   ],
   "source": [
    "print(\"Welcome to Blackjack!\")\n",
    "player = get_players_information()\n",
    "dealer = Player(\"Dealer\", 0)\n",
    "deck = Deck()\n",
    "\n",
    "while True:\n",
    "    player_deposit = get_player_round_deposit(player)\n",
    "    clear_output()\n",
    "    player.withdraw(player_deposit)\n",
    "    player.add_cards_to_hand(deck.get_n_cards(2))\n",
    "    dealer.add_cards_to_hand(deck.get_n_cards(2))\n",
    "    \n",
    "    print(f\"The dealers first card is {dealer.hand[0]}\")\n",
    "    \n",
    "    while True:\n",
    "        print(f\"{player.name}, your current hand is: {player.hand}\\n\")\n",
    "        if get_player_action():\n",
    "            new_card = deck.get_n_cards(1)\n",
    "            print(f\"You pulled {new_card[0]}\")\n",
    "            player.add_cards_to_hand(new_card)\n",
    "            if player.get_hand_sum() <= 21:\n",
    "                continue\n",
    "            else:\n",
    "                break\n",
    "        else:\n",
    "            break\n",
    "            \n",
    "    if player.get_hand_sum() <= 21:\n",
    "        \n",
    "        print(f\"\\nThe dealer hand is {dealer.hand}\")\n",
    "        \n",
    "        while dealer.get_hand_sum() < 17:\n",
    "            new_card = deck.get_n_cards(1)\n",
    "            print(f\"The dealer pulled {new_card[0]}\")\n",
    "            dealer.add_cards_to_hand(new_card)\n",
    "            \n",
    "            \n",
    "        print(f\"\\nYour hand value is {player.get_hand_sum()}\")\n",
    "        print(f\"The dealers hand value is {dealer.get_hand_sum()}\")\n",
    "            \n",
    "        if dealer.get_hand_sum() > 21 or dealer.get_hand_sum() < player.get_hand_sum():\n",
    "            player.deposit(player_deposit * 2)\n",
    "            print(f\"You have won! Balance: {player.balance}\")\n",
    "        else:\n",
    "            if dealer.get_hand_sum() > player.get_hand_sum():\n",
    "                print(f\"Sorry, you have lost! Balance: {player.balance}\")\n",
    "            else:\n",
    "                player.deposit(player_deposit)\n",
    "                print(f\"Draw! Balance: {player.balance}\")\n",
    "                \n",
    "    else:\n",
    "        print(f\"Sorry, you have lost! Balance: {player.balance}\")\n",
    "        \n",
    "    if not replay():\n",
    "        break\n",
    "    else:\n",
    "          player.throw_hand()\n",
    "          dealer.throw_hand()\n",
    "\n",
    "print(\"Thank you for playing!\")"
   ]
  },
  {
   "cell_type": "code",
   "execution_count": null,
   "metadata": {},
   "outputs": [],
   "source": []
  },
  {
   "cell_type": "code",
   "execution_count": null,
   "metadata": {},
   "outputs": [],
   "source": []
  }
 ],
 "metadata": {
  "kernelspec": {
   "display_name": "Python 3",
   "language": "python",
   "name": "python3"
  },
  "language_info": {
   "codemirror_mode": {
    "name": "ipython",
    "version": 3
   },
   "file_extension": ".py",
   "mimetype": "text/x-python",
   "name": "python",
   "nbconvert_exporter": "python",
   "pygments_lexer": "ipython3",
   "version": "3.7.3"
  },
  "pycharm": {
   "stem_cell": {
    "cell_type": "raw",
    "metadata": {
     "collapsed": false
    },
    "source": []
   }
  }
 },
 "nbformat": 4,
 "nbformat_minor": 1
}
