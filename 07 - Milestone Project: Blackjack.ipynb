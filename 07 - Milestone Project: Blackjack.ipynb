{
 "cells": [
  {
   "cell_type": "markdown",
   "metadata": {
    "collapsed": true,
    "pycharm": {
     "name": "#%% md\n"
    }
   },
   "source": [
    "# Milestone Project: Blackjack\n",
    "\n",
    "- Player starts with 2 cards face up\n",
    "- Dealer starts with 1 card face down and 1 face up\n",
    "- Player goes first in gameplay\n",
    "- Player goal: Get closer to a total value of 21 than the dealer does. Possible actions: (Hit and Stay)\n",
    "- After player turn: If player is under 21, dealer then hits until more or equal 17 points\n",
    "- Sepcial Rules: Face Cards (Jack, Queen, King) count as a value of 10 and Aces count as either 1 or 11 (whichever player picks)"
   ]
  },
  {
   "cell_type": "code",
   "execution_count": 1,
   "metadata": {},
   "outputs": [],
   "source": [
    "from random import shuffle as random_shuffle\n",
    "from IPython.display import clear_output"
   ]
  },
  {
   "cell_type": "code",
   "execution_count": null,
   "metadata": {
    "pycharm": {
     "name": "#%%"
    }
   },
   "outputs": [],
   "source": []
  },
  {
   "cell_type": "code",
   "execution_count": 2,
   "metadata": {},
   "outputs": [],
   "source": [
    "class Card():\n",
    "    \n",
    "    def __init__(self, suit, rank, value):\n",
    "        self.suit = suit\n",
    "        self.rank = rank\n",
    "        self.value = value\n",
    "        \n",
    "    def __str__(self):\n",
    "        return f\"{self.suit} {self.rank} ({self.value})\"\n",
    "    \n",
    "    def __repr__(self):\n",
    "        return str(self)"
   ]
  },
  {
   "cell_type": "code",
   "execution_count": 3,
   "metadata": {},
   "outputs": [],
   "source": [
    "class Deck(list):\n",
    "    \n",
    "    suits = ('Hearts', 'Diamonds', 'Spades', 'Clubs')\n",
    "    values = {'Two': 2, 'Three': 3, 'Four': 4, 'Five': 5, 'Six': 6, 'Seven': 7, 'Eight': 8, 'Nine': 9, 'Ten': 10, 'Jack': 10, 'Queen': 10, 'King': 10, 'Ace': 11}\n",
    "    \n",
    "    def __init__(self):\n",
    "        super().__init__(Card(suit, rank, value) for suit in Deck.suits for rank, value in Deck.values.items())\n",
    "        self.shuffle()\n",
    "        \n",
    "    def get_n_cards(self, n):\n",
    "        if len(self) >= n:\n",
    "            self.__init__()\n",
    "        return [self.pop() for _ in range(n)]\n",
    "            \n",
    "    \n",
    "    def shuffle(self):\n",
    "        random_shuffle(self)"
   ]
  },
  {
   "cell_type": "code",
   "execution_count": 4,
   "metadata": {},
   "outputs": [],
   "source": [
    "class Hand():\n",
    "    \n",
    "    def __init__(self, *cards):\n",
    "        self.cards = [card for card in cards]\n",
    "        \n",
    "    def add_cards(self, cards):\n",
    "        self.cards.extend(cards)\n",
    "        \n",
    "    def throw(self):\n",
    "        self.cards.clear()\n",
    "        \n",
    "    def get_sum(self):\n",
    "        return sum(card.value for card in self.cards)\n",
    "        \n",
    "    def __str__(self):\n",
    "        return f\"{self.cards}\""
   ]
  },
  {
   "cell_type": "code",
   "execution_count": 5,
   "metadata": {},
   "outputs": [],
   "source": [
    "class Player():\n",
    "    \n",
    "    def __init__(self, name, balance):\n",
    "        self.name = name\n",
    "        self.balance = balance\n",
    "        self.hand = Hand()\n",
    "        \n",
    "    def deposit(self, amount):\n",
    "        self.balance += amount\n",
    "        \n",
    "    def withdraw(self, amount):\n",
    "        self.balance -= amount\n",
    "        \n",
    "    def add_cards_to_hand(self, card):\n",
    "        self.hand.add_cards(card)\n",
    "        \n",
    "    def throw_hand(self):\n",
    "        self.hand.throw()\n",
    "        \n",
    "    def get_hand_sum(self):\n",
    "        return self.hand.get_sum()\n",
    "        \n",
    "    def __str__(self):\n",
    "        return f\"Player({self.name}, {self.balance}€)\""
   ]
  },
  {
   "cell_type": "code",
   "execution_count": 6,
   "metadata": {},
   "outputs": [],
   "source": [
    "class NotEnoughMoneyError(Exception):\n",
    "    def __init__(self):\n",
    "        super().__init__(\"You do not have enough money!\")"
   ]
  },
  {
   "cell_type": "code",
   "execution_count": 7,
   "metadata": {},
   "outputs": [],
   "source": [
    "def get_players_information():\n",
    "    player_name = input(\"Enter your name: \")\n",
    "    while True:\n",
    "        try:\n",
    "            player_balance = float(input(\"Enter your balance: \"))\n",
    "        except ValueError:\n",
    "            print(\"Please enter a valid balance!\")\n",
    "            continue\n",
    "        else:\n",
    "            break\n",
    "    return Player(player_name, player_balance)"
   ]
  },
  {
   "cell_type": "code",
   "execution_count": 8,
   "metadata": {},
   "outputs": [],
   "source": [
    "def get_player_round_deposit(player):\n",
    "    while True:\n",
    "        try:\n",
    "            amount = int(input(\"With how much money do you want to play this round? \"))\n",
    "            if amount > player.balance:\n",
    "                raise NotEnoughMoneyError\n",
    "        except ValueError:\n",
    "            print(\"Please enter a valid amount!\")\n",
    "        except NotEnoughMoneyError as err:\n",
    "            print(err)\n",
    "        else:\n",
    "            break\n",
    "    return amount"
   ]
  },
  {
   "cell_type": "code",
   "execution_count": 9,
   "metadata": {},
   "outputs": [],
   "source": [
    "def get_player_action():\n",
    "    return input(\"Do you want to Hit or Stay? H/S\").lower().startswith(\"h\")"
   ]
  },
  {
   "cell_type": "code",
   "execution_count": null,
   "metadata": {},
   "outputs": [],
   "source": []
  },
  {
   "cell_type": "code",
   "execution_count": null,
   "metadata": {},
   "outputs": [],
   "source": []
  },
  {
   "cell_type": "code",
   "execution_count": 10,
   "metadata": {},
   "outputs": [],
   "source": [
    "def replay():\n",
    "    return input(\"Do you want to play another round? Y/n\").lower().startswith('y')"
   ]
  },
  {
   "cell_type": "code",
   "execution_count": 11,
   "metadata": {},
   "outputs": [],
   "source": [
    "def replay_with_deposit():\n",
    "    return input(\"You don't have enough money for another round. Do you want to deposit new money? Y/n\").lower().startswith('y')"
   ]
  },
  {
   "cell_type": "code",
   "execution_count": null,
   "metadata": {},
   "outputs": [],
   "source": []
  },
  {
   "cell_type": "code",
   "execution_count": null,
   "metadata": {},
   "outputs": [],
   "source": []
  },
  {
   "cell_type": "code",
   "execution_count": null,
   "metadata": {},
   "outputs": [],
   "source": []
  },
  {
   "cell_type": "code",
   "execution_count": null,
   "metadata": {},
   "outputs": [],
   "source": []
  },
  {
   "cell_type": "code",
   "execution_count": 19,
   "metadata": {},
   "outputs": [
    {
     "name": "stdout",
     "output_type": "stream",
     "text": [
      "With how much money do you want to play this round? 400\n",
      "The dealers first card is Spades Seven (7)\n",
      "0.0\n",
      "Manuel, your current hand is: [Hearts Three (3), Diamonds Three (3)]\n",
      "Do you want to Hit or Stay? H/Sh\n",
      "You pulled [Spades Two (2)]\n",
      "0.0\n",
      "Manuel, your current hand is: [Hearts Three (3), Diamonds Three (3), Spades Two (2)]\n",
      "Do you want to Hit or Stay? H/Sh\n",
      "You pulled [Hearts Eight (8)]\n",
      "0.0\n",
      "Manuel, your current hand is: [Hearts Three (3), Diamonds Three (3), Spades Two (2), Hearts Eight (8)]\n",
      "Do you want to Hit or Stay? H/Ss\n",
      "The dealer hand is [Spades Seven (7), Clubs King (10)]\n",
      "[Spades Seven (7), Clubs King (10)]\n",
      "Sorry, you have lost! Balance: 0.0\n",
      "Do you want to play another round? Y/nn\n",
      "Thank you for playing!\n"
     ]
    }
   ],
   "source": [
    "print(\"Welcome to Blackjack!\")\n",
    "player = get_players_information()\n",
    "dealer = Player(\"Dealer\", 0)\n",
    "deck = Deck()\n",
    "\n",
    "while True:\n",
    "    clear_output()\n",
    "    player_deposit = get_player_round_deposit(player)\n",
    "    player.withdraw(player_deposit)\n",
    "    player.add_cards_to_hand(deck.get_n_cards(2))\n",
    "    dealer.add_cards_to_hand(deck.get_n_cards(2))\n",
    "    \n",
    "    print(f\"The dealers first card is {dealer.hand.cards[0]}\")\n",
    "    \n",
    "    while True:\n",
    "        print(f\"{player.name}, your current hand is: {player.hand}\")\n",
    "        if get_player_action():\n",
    "            new_card = deck.get_n_cards(1)\n",
    "            print(f\"You pulled {new_card}\")\n",
    "            player.add_cards_to_hand(new_card)\n",
    "            if player.get_hand_sum() <= 21:\n",
    "                continue\n",
    "            else:\n",
    "                break\n",
    "        else:\n",
    "            break\n",
    "            \n",
    "    if player.get_hand_sum() <= 21:\n",
    "        \n",
    "        print(f\"The dealer hand is {dealer.hand}\")\n",
    "        \n",
    "        while dealer.get_hand_sum() < 17:\n",
    "            new_card = deck.get_n_cards(1)\n",
    "            print(f\"The dealer pulled {new_card}\")\n",
    "            dealer.add_cards_to_hand(new_card)\n",
    "            \n",
    "        print(f\"{dealer.hand}\")\n",
    "            \n",
    "        if dealer.get_hand_sum() > 21 or dealer.get_hand_sum() < player.get_hand_sum():\n",
    "            player.deposit(player_deposit * 2)\n",
    "            print(f\"You have won! Balance: {player.balance}\")\n",
    "        else:\n",
    "            if dealer.get_hand_sum() > player.get_hand_sum():\n",
    "                print(f\"Sorry, you have lost! Balance: {player.balance}\")\n",
    "            else:\n",
    "                player.deposit(player_deposit)\n",
    "                print(f\"Draw! Balance: {player.balance}\")\n",
    "                \n",
    "    else:\n",
    "        print(f\"Sorry, you have lost! Balance: {player.balance}\")\n",
    "        \n",
    "    if not replay():\n",
    "        break\n",
    "    else:\n",
    "          player.throw_hand()\n",
    "          dealer.throw_hand()\n",
    "\n",
    "print(\"Thank you for playing!\")"
   ]
  },
  {
   "cell_type": "code",
   "execution_count": null,
   "metadata": {},
   "outputs": [],
   "source": []
  },
  {
   "cell_type": "code",
   "execution_count": null,
   "metadata": {},
   "outputs": [],
   "source": []
  }
 ],
 "metadata": {
  "kernelspec": {
   "display_name": "Python 3",
   "language": "python",
   "name": "python3"
  },
  "language_info": {
   "codemirror_mode": {
    "name": "ipython",
    "version": 3
   },
   "file_extension": ".py",
   "mimetype": "text/x-python",
   "name": "python",
   "nbconvert_exporter": "python",
   "pygments_lexer": "ipython3",
   "version": "3.7.3"
  },
  "pycharm": {
   "stem_cell": {
    "cell_type": "raw",
    "source": [],
    "metadata": {
     "collapsed": false
    }
   }
  }
 },
 "nbformat": 4,
 "nbformat_minor": 1
}