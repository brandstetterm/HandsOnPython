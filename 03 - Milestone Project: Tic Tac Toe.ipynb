{
 "cells": [
  {
   "cell_type": "markdown",
   "metadata": {
    "collapsed": true
   },
   "source": [
    "# Milestone Project: Tic Tac Toe Game"
   ]
  },
  {
   "cell_type": "code",
   "execution_count": 10,
   "metadata": {
    "pycharm": {
     "is_executing": false
    }
   },
   "outputs": [],
   "source": [
    "from IPython.display import clear_output\n",
    "from random import randint\n",
    "\n",
    "players = {1: 'X', 2: 'O'}\n",
    "apos = [x for x in range(1, 10)]\n",
    "board = ['' for i in range(9)]"
   ]
  },
  {
   "cell_type": "code",
   "execution_count": 11,
   "metadata": {
    "pycharm": {
     "is_executing": false
    }
   },
   "outputs": [],
   "source": [
    "def display_board():\n",
    "    print(\n",
    "        f'{apos[6]:^3}|{apos[7]:^3}|{apos[8]:^3}\\t{board[6]:^3}|{board[7]:^3}|{board[8]:^3}\\n' +\n",
    "        '---|---|---\\t---|---|---\\n' +\n",
    "        f'{apos[3]:^3}|{apos[4]:^3}|{apos[5]:^3}\\t{board[3]:^3}|{board[4]:^3}|{board[5]:^3}\\n' +\n",
    "        '---|---|---\\t---|---|---\\n' +\n",
    "        f'{apos[0]:^3}|{apos[1]:^3}|{apos[2]:^3}\\t{board[0]:^3}|{board[1]:^3}|{board[2]:^3}\\n' \n",
    "    )"
   ]
  },
  {
   "cell_type": "code",
   "execution_count": 12,
   "metadata": {
    "pycharm": {
     "is_executing": false
    }
   },
   "outputs": [],
   "source": [
    "def player_choice(player):\n",
    "    result = int(input(f'Choose a position player {player}: '))\n",
    "    while result not in apos:\n",
    "        print(\"Your choosen position isn't available anymore! Choose another one!\")\n",
    "        result = input(f'Choose a new position player {player}: ')\n",
    "    return result"
   ]
  },
  {
   "cell_type": "code",
   "execution_count": 13,
   "metadata": {
    "pycharm": {
     "is_executing": false
    }
   },
   "outputs": [],
   "source": [
    "def place_marker(marker, position):\n",
    "    apos[position - 1] = ''\n",
    "    board[position - 1] = marker"
   ]
  },
  {
   "cell_type": "code",
   "execution_count": 14,
   "metadata": {
    "pycharm": {
     "is_executing": false
    }
   },
   "outputs": [],
   "source": [
    "def check_win(marker):\n",
    "    return (\n",
    "        board[0] == board[1] == board[2] == marker or\n",
    "        board[3] == board[4] == board[5] == marker or\n",
    "        board[6] == board[7] == board[8] == marker or\n",
    "        board[0] == board[3] == board[6] == marker or\n",
    "        board[1] == board[4] == board[7] == marker or\n",
    "        board[2] == board[5] == board[8] == marker or\n",
    "        board[0] == board[4] == board[8] == marker or\n",
    "        board[2] == board[4] == board[6] == marker)"
   ]
  },
  {
   "cell_type": "code",
   "execution_count": 14,
   "metadata": {
    "pycharm": {
     "is_executing": false
    }
   },
   "outputs": [],
   "source": []
  },
  {
   "cell_type": "code",
   "execution_count": 15,
   "metadata": {
    "pycharm": {
     "is_executing": false
    }
   },
   "outputs": [],
   "source": [
    "def check_for_available_positions():\n",
    "    for num in range(1, 10):\n",
    "        if num in apos:\n",
    "            return True\n",
    "    return False"
   ]
  },
  {
   "cell_type": "code",
   "execution_count": 16,
   "metadata": {
    "pycharm": {
     "is_executing": false
    }
   },
   "outputs": [],
   "source": [
    "def replay():\n",
    "    return input('Do you want to play again? Y/n').lower().startswith('y')"
   ]
  },
  {
   "cell_type": "code",
   "execution_count": 17,
   "metadata": {
    "pycharm": {
     "is_executing": false
    }
   },
   "outputs": [],
   "source": [
    "def reload_board():\n",
    "    apos = [x for x in range(1, 10)]\n",
    "    board = ['' for i in range(9)]"
   ]
  },
  {
   "cell_type": "code",
   "execution_count": 18,
   "metadata": {
    "pycharm": {
     "is_executing": false
    }
   },
   "outputs": [
    {
     "name": "stdout",
     "text": [
      "Welcome to TIC TAC TOE\n",
      "\n",
      "This round, player 1 will start!\n",
      "\n",
      " 7 | 8 | 9 \t   |   |   \n",
      "---|---|---\t---|---|---\n",
      " 4 | 5 | 6 \t   |   |   \n",
      "---|---|---\t---|---|---\n",
      " 1 | 2 | 3 \t   |   |   \n",
      "\n",
      " 7 | 8 | 9 \t   |   |   \n",
      "---|---|---\t---|---|---\n",
      " 4 | 5 | 6 \t   |   |   \n",
      "---|---|---\t---|---|---\n",
      "   | 2 | 3 \t X |   |   \n",
      "\n",
      " 7 | 8 | 9 \t   |   |   \n",
      "---|---|---\t---|---|---\n",
      " 4 | 5 | 6 \t   |   |   \n",
      "---|---|---\t---|---|---\n",
      "   |   | 3 \t X | O |   \n",
      "\n",
      " 7 | 8 | 9 \t   |   |   \n",
      "---|---|---\t---|---|---\n",
      "   | 5 | 6 \t X |   |   \n",
      "---|---|---\t---|---|---\n",
      "   |   | 3 \t X | O |   \n",
      "\n",
      " 7 | 8 | 9 \t   |   |   \n",
      "---|---|---\t---|---|---\n",
      "   |   | 6 \t X | O |   \n",
      "---|---|---\t---|---|---\n",
      "   |   | 3 \t X | O |   \n",
      "\n",
      "   | 8 | 9 \t X |   |   \n",
      "---|---|---\t---|---|---\n",
      "   |   | 6 \t X | O |   \n",
      "---|---|---\t---|---|---\n",
      "   |   | 3 \t X | O |   \n",
      "\n",
      "Congratulations player 1, you have won!\n"
     ],
     "output_type": "stream"
    }
   ],
   "source": [
    "while True:\n",
    "    clear_output()\n",
    "    print('Welcome to TIC TAC TOE\\n')\n",
    "    \n",
    "    current_player = randint(1, 2)\n",
    "    print(f'This round, player {current_player} will start!\\n')\n",
    "\n",
    "    while True:\n",
    "        display_board()\n",
    "        pos = player_choice(current_player)\n",
    "        place_marker(players.get(current_player), pos)\n",
    "        \n",
    "        if check_win(players.get(current_player)):\n",
    "            display_board()\n",
    "            print(f'Congratulations player {current_player}, you have won!')\n",
    "            break\n",
    "        else:\n",
    "            if not check_for_available_positions():\n",
    "                display_board()\n",
    "                print('Draw! Better luck next time!')\n",
    "                break\n",
    "            else:\n",
    "                current_player = 1 if current_player is 2 else 2\n",
    "                pass\n",
    "            \n",
    "    reload_board()\n",
    "    \n",
    "    if not replay():\n",
    "        break\n",
    "    "
   ]
  },
  {
   "cell_type": "code",
   "execution_count": 18,
   "metadata": {
    "pycharm": {
     "is_executing": false
    }
   },
   "outputs": [],
   "source": []
  },
  {
   "cell_type": "code",
   "execution_count": 18,
   "metadata": {
    "pycharm": {
     "is_executing": false
    }
   },
   "outputs": [],
   "source": []
  }
 ],
 "metadata": {
  "kernelspec": {
   "display_name": "Python 3",
   "language": "python",
   "name": "python3"
  },
  "language_info": {
   "codemirror_mode": {
    "name": "ipython",
    "version": 3
   },
   "file_extension": ".py",
   "mimetype": "text/x-python",
   "name": "python",
   "nbconvert_exporter": "python",
   "pygments_lexer": "ipython3",
   "version": "3.7.3"
  },
  "pycharm": {
   "stem_cell": {
    "cell_type": "raw",
    "metadata": {
     "collapsed": false
    },
    "source": []
   }
  }
 },
 "nbformat": 4,
 "nbformat_minor": 1
}