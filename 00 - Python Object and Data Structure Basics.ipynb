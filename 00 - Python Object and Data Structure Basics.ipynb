{
 "cells": [
  {
   "cell_type": "markdown",
   "source": [
    "# Python Object and Data Structure Basics\n"
   ],
   "metadata": {
    "collapsed": false
   }
  },
  {
   "cell_type": "code",
   "execution_count": 157,
   "outputs": [
    {
     "data": {
      "text/plain": "1024"
     },
     "metadata": {},
     "output_type": "execute_result",
     "execution_count": 157
    }
   ],
   "source": [
    "2 ** 10"
   ],
   "metadata": {
    "collapsed": false,
    "pycharm": {
     "name": "#%%\n",
     "is_executing": false
    }
   }
  },
  {
   "cell_type": "markdown",
   "source": [
    "### Variable Assignments\n",
    "Python uses Dynamic Typing: Reassign variables to different data types (different to statically typed languages)"
   ],
   "metadata": {
    "collapsed": false
   }
  },
  {
   "cell_type": "code",
   "execution_count": 158,
   "outputs": [
    {
     "data": {
      "text/plain": "2"
     },
     "metadata": {},
     "output_type": "execute_result",
     "execution_count": 158
    }
   ],
   "source": [
    "# Integer assigned to variable test\n",
    "test = 2\n",
    "test"
   ],
   "metadata": {
    "collapsed": false,
    "pycharm": {
     "name": "#%%\n",
     "is_executing": false
    }
   }
  },
  {
   "cell_type": "code",
   "execution_count": 159,
   "outputs": [
    {
     "data": {
      "text/plain": "'Hello World!'"
     },
     "metadata": {},
     "output_type": "execute_result",
     "execution_count": 159
    }
   ],
   "source": [
    "# Reassign variable with a string\n",
    "test = 'Hello World!'\n",
    "test"
   ],
   "metadata": {
    "collapsed": false,
    "pycharm": {
     "name": "#%%\n",
     "is_executing": false
    }
   }
  },
  {
   "cell_type": "code",
   "execution_count": 160,
   "outputs": [
    {
     "data": {
      "text/plain": "str"
     },
     "metadata": {},
     "output_type": "execute_result",
     "execution_count": 160
    }
   ],
   "source": [
    "type(test)"
   ],
   "metadata": {
    "collapsed": false,
    "pycharm": {
     "name": "#%%\n",
     "is_executing": false
    }
   }
  },
  {
   "cell_type": "code",
   "execution_count": 161,
   "outputs": [
    {
     "data": {
      "text/plain": "20"
     },
     "metadata": {},
     "output_type": "execute_result",
     "execution_count": 161
    }
   ],
   "source": [
    "a = 10\n",
    "a = a + a\n",
    "a"
   ],
   "metadata": {
    "collapsed": false,
    "pycharm": {
     "name": "#%%\n",
     "is_executing": false
    }
   }
  },
  {
   "cell_type": "code",
   "execution_count": 162,
   "outputs": [],
   "source": [
    "b = None\n",
    "b"
   ],
   "metadata": {
    "collapsed": false,
    "pycharm": {
     "name": "#%%\n",
     "is_executing": false
    }
   }
  },
  {
   "cell_type": "markdown",
   "source": [
    "### Strings"
   ],
   "metadata": {
    "collapsed": false
   }
  },
  {
   "cell_type": "code",
   "execution_count": 163,
   "outputs": [
    {
     "data": {
      "text/plain": "\"I don't do that\""
     },
     "metadata": {},
     "output_type": "execute_result",
     "execution_count": 163
    }
   ],
   "source": [
    "text = \"I don't do that\"\n",
    "text"
   ],
   "metadata": {
    "collapsed": false,
    "pycharm": {
     "name": "#%%\n",
     "is_executing": false
    }
   }
  },
  {
   "cell_type": "code",
   "execution_count": 164,
   "outputs": [
    {
     "data": {
      "text/plain": "'a'"
     },
     "metadata": {},
     "output_type": "execute_result",
     "execution_count": 164
    }
   ],
   "source": [
    "# Reverse indexing works\n",
    "text[-2]"
   ],
   "metadata": {
    "collapsed": false,
    "pycharm": {
     "name": "#%%\n",
     "is_executing": false
    }
   }
  },
  {
   "cell_type": "code",
   "execution_count": 165,
   "outputs": [
    {
     "name": "stdout",
     "text": [
      "I don't\n",
      " do that\n",
      "do\n",
      "I don't do \n"
     ],
     "output_type": "stream"
    }
   ],
   "source": [
    "# String slicing: Subsection of string\n",
    "# [start:stop:step]\n",
    "# stop index is not included\n",
    "print(text[:7])\n",
    "print(text[7:])\n",
    "print(text[8:10])\n",
    "print(text[:-4])"
   ],
   "metadata": {
    "collapsed": false,
    "pycharm": {
     "name": "#%%\n",
     "is_executing": false
    }
   }
  },
  {
   "cell_type": "code",
   "execution_count": 166,
   "outputs": [
    {
     "data": {
      "text/plain": "15"
     },
     "metadata": {},
     "output_type": "execute_result",
     "execution_count": 166
    }
   ],
   "source": [
    "# Length of string\n",
    "len(text)"
   ],
   "metadata": {
    "collapsed": false,
    "pycharm": {
     "name": "#%%\n",
     "is_executing": false
    }
   }
  },
  {
   "cell_type": "code",
   "execution_count": 167,
   "outputs": [
    {
     "name": "stdout",
     "text": [
      "adgjmpsvy\n",
      "zyxwvutsrqponmlkjihgfedcba\n"
     ],
     "output_type": "stream"
    }
   ],
   "source": [
    "alphabet = \"abcdefghijklmnopqrstuvwxyz\"\n",
    "print(alphabet[::3])\n",
    "print(alphabet[::-1]) # easily reverse string"
   ],
   "metadata": {
    "collapsed": false,
    "pycharm": {
     "name": "#%%\n",
     "is_executing": false
    }
   }
  },
  {
   "cell_type": "code",
   "execution_count": 168,
   "outputs": [
    {
     "data": {
      "text/plain": "'Kanuel'"
     },
     "metadata": {},
     "output_type": "execute_result",
     "execution_count": 168
    }
   ],
   "source": [
    "# Strings are immutable\n",
    "name = \"Manuel\"\n",
    "# name[0] = \"K\" won't work\n",
    "'K' + name[1:]"
   ],
   "metadata": {
    "collapsed": false,
    "pycharm": {
     "name": "#%%\n",
     "is_executing": false
    }
   }
  },
  {
   "cell_type": "code",
   "execution_count": 169,
   "outputs": [
    {
     "data": {
      "text/plain": "'aaaaaaaaaa'"
     },
     "metadata": {},
     "output_type": "execute_result",
     "execution_count": 169
    }
   ],
   "source": [
    "'a' * 10"
   ],
   "metadata": {
    "collapsed": false,
    "pycharm": {
     "name": "#%%\n",
     "is_executing": false
    }
   }
  },
  {
   "cell_type": "code",
   "execution_count": 170,
   "outputs": [
    {
     "name": "stdout",
     "text": [
      "THIS IS A STRING\n",
      "this is a string\n",
      "['This', 'is', 'a', 'string']\n",
      "['Th', 's ', 's a str', 'ng']\n"
     ],
     "output_type": "stream"
    }
   ],
   "source": [
    "x = 'This is a string'\n",
    "print(x.upper())\n",
    "print(x.lower())\n",
    "print(x.split())\n",
    "print(x.split('i'))"
   ],
   "metadata": {
    "collapsed": false,
    "pycharm": {
     "name": "#%%\n",
     "is_executing": false
    }
   }
  },
  {
   "cell_type": "code",
   "execution_count": 171,
   "outputs": [
    {
     "name": "stdout",
     "text": [
      "String: Hi I'm 12. End\n",
      "String: Hi I'm 12. End\n",
      "String: Ciao Hi Bye. End\n"
     ],
     "output_type": "stream"
    }
   ],
   "source": [
    "# Formatting also works\n",
    "print(\"String: {} {} {}. End\".format(\"Hi\", \"I'm\", 12))\n",
    "print(\"String: {1} {2} {0}. End\".format(12, \"Hi\", \"I'm\"))\n",
    "print(\"String: {c} {a} {b}. End\".format(a=\"Hi\", b=\"Bye\", c=\"Ciao\"))"
   ],
   "metadata": {
    "collapsed": false,
    "pycharm": {
     "name": "#%%\n",
     "is_executing": false
    }
   }
  },
  {
   "cell_type": "code",
   "execution_count": 172,
   "outputs": [
    {
     "name": "stdout",
     "text": [
      "Result is 1.2987012987012987\n",
      "Result is 1.299\n",
      "Result is 1.299\n"
     ],
     "output_type": "stream"
    }
   ],
   "source": [
    "# Float formatting: {value:width.precision f}\n",
    "result = 100 / 77\n",
    "print(\"Result is {r}\".format(r=result))\n",
    "print(\"Result is {r:1.3f}\".format(r=result))\n",
    "print(\"Result is {r:.3f}\".format(r=result))"
   ],
   "metadata": {
    "collapsed": false,
    "pycharm": {
     "name": "#%%\n",
     "is_executing": false
    }
   }
  },
  {
   "cell_type": "code",
   "execution_count": 173,
   "outputs": [
    {
     "name": "stdout",
     "text": [
      "Result is 1.2987012987012987\n",
      "Result is 1.299\n"
     ],
     "output_type": "stream"
    }
   ],
   "source": [
    "# Formatted string literals\n",
    "print(f\"Result is {result}\")\n",
    "print(f\"Result is {result:.3f}\")"
   ],
   "metadata": {
    "collapsed": false,
    "pycharm": {
     "name": "#%%\n",
     "is_executing": false
    }
   }
  },
  {
   "cell_type": "code",
   "execution_count": 174,
   "outputs": [
    {
     "name": "stdout",
     "text": [
      "left            |  center  |    right\n",
      "42              |    42    |       42\n",
      "42============= | ---42--- | ......42\n"
     ],
     "output_type": "stream"
    }
   ],
   "source": [
    "# Formating can be useful for alignments\n",
    "print(f\"{'left':<15} | {'center':^8} | {'right':>8}\")\n",
    "print(f\"{42:<15} | {42:^8} | {42:>8}\")\n",
    "print(f\"{42:=<15} | {42:-^8} | {42:.>8}\")"
   ],
   "metadata": {
    "collapsed": false,
    "pycharm": {
     "name": "#%%\n",
     "is_executing": false
    }
   }
  },
  {
   "cell_type": "markdown",
   "source": [
    "### Lists"
   ],
   "metadata": {
    "collapsed": false
   }
  },
  {
   "cell_type": "code",
   "execution_count": 175,
   "outputs": [
    {
     "data": {
      "text/plain": "['STRING', 100, 42.3]"
     },
     "metadata": {},
     "output_type": "execute_result",
     "execution_count": 175
    }
   ],
   "source": [
    "my_list = [1, 2, 3]\n",
    "my_list = [\"STRING\", 100, 42.3]\n",
    "my_list"
   ],
   "metadata": {
    "collapsed": false,
    "pycharm": {
     "name": "#%%\n",
     "is_executing": false
    }
   }
  },
  {
   "cell_type": "code",
   "execution_count": 176,
   "outputs": [
    {
     "data": {
      "text/plain": "[100, 42.3]"
     },
     "metadata": {},
     "output_type": "execute_result",
     "execution_count": 176
    }
   ],
   "source": [
    "# Indexing and slicing works for lists too\n",
    "my_list[1:]"
   ],
   "metadata": {
    "collapsed": false,
    "pycharm": {
     "name": "#%%\n",
     "is_executing": false
    }
   }
  },
  {
   "cell_type": "code",
   "execution_count": 177,
   "outputs": [
    {
     "data": {
      "text/plain": "['One', 'Two', 'Three', 3, 2, 1]"
     },
     "metadata": {},
     "output_type": "execute_result",
     "execution_count": 177
    }
   ],
   "source": [
    "list1 = ['One', 'Two', 'Three']\n",
    "list2 = [1, 2, 3]\n",
    "new_list = list1 + list2[::-1]\n",
    "new_list"
   ],
   "metadata": {
    "collapsed": false,
    "pycharm": {
     "name": "#%%\n",
     "is_executing": false
    }
   }
  },
  {
   "cell_type": "code",
   "execution_count": 178,
   "outputs": [
    {
     "data": {
      "text/plain": "['One', 'Two', 'Three', 3, 2, 1, 0]"
     },
     "metadata": {},
     "output_type": "execute_result",
     "execution_count": 178
    }
   ],
   "source": [
    "new_list.append(0)\n",
    "new_list"
   ],
   "metadata": {
    "collapsed": false,
    "pycharm": {
     "name": "#%%\n",
     "is_executing": false
    }
   }
  },
  {
   "cell_type": "code",
   "execution_count": 179,
   "outputs": [
    {
     "data": {
      "text/plain": "0"
     },
     "metadata": {},
     "output_type": "execute_result",
     "execution_count": 179
    }
   ],
   "source": [
    "new_list.pop()"
   ],
   "metadata": {
    "collapsed": false,
    "pycharm": {
     "name": "#%%\n",
     "is_executing": false
    }
   }
  },
  {
   "cell_type": "code",
   "execution_count": 180,
   "outputs": [
    {
     "data": {
      "text/plain": "'One'"
     },
     "metadata": {},
     "output_type": "execute_result",
     "execution_count": 180
    }
   ],
   "source": [
    "new_list.pop(0)"
   ],
   "metadata": {
    "collapsed": false,
    "pycharm": {
     "name": "#%%\n",
     "is_executing": false
    }
   }
  },
  {
   "cell_type": "code",
   "execution_count": 181,
   "outputs": [],
   "source": [
    "char_list = ['a', 'd', 'c', 'b']\n",
    "char_list.sort() # doesn't return anything"
   ],
   "metadata": {
    "collapsed": false,
    "pycharm": {
     "name": "#%%\n",
     "is_executing": false
    }
   }
  },
  {
   "cell_type": "code",
   "execution_count": 182,
   "outputs": [
    {
     "data": {
      "text/plain": "['a', 'b', 'c', 'd']"
     },
     "metadata": {},
     "output_type": "execute_result",
     "execution_count": 182
    }
   ],
   "source": [
    "char_list"
   ],
   "metadata": {
    "collapsed": false,
    "pycharm": {
     "name": "#%%\n",
     "is_executing": false
    }
   }
  },
  {
   "cell_type": "code",
   "execution_count": 183,
   "outputs": [
    {
     "data": {
      "text/plain": "4"
     },
     "metadata": {},
     "output_type": "execute_result",
     "execution_count": 183
    }
   ],
   "source": [
    "nested_list = [1, 2, [3, 4]]\n",
    "nested_list[2][1]"
   ],
   "metadata": {
    "collapsed": false,
    "pycharm": {
     "name": "#%%\n",
     "is_executing": false
    }
   }
  },
  {
   "cell_type": "markdown",
   "source": [
    "### Dictionaries\n",
    "Key Value Pair \n",
    "Dictionaries do not remain an order because they are mappings"
   ],
   "metadata": {
    "collapsed": false
   }
  },
  {
   "cell_type": "code",
   "execution_count": 184,
   "outputs": [
    {
     "data": {
      "text/plain": "{'key1': 'value1', 'key2': 'value2'}"
     },
     "metadata": {},
     "output_type": "execute_result",
     "execution_count": 184
    }
   ],
   "source": [
    "my_dict = {'key1': 'value1', 'key2':'value2'}\n",
    "my_dict"
   ],
   "metadata": {
    "collapsed": false,
    "pycharm": {
     "name": "#%%\n",
     "is_executing": false
    }
   }
  },
  {
   "cell_type": "code",
   "execution_count": 185,
   "outputs": [
    {
     "data": {
      "text/plain": "'value1'"
     },
     "metadata": {},
     "output_type": "execute_result",
     "execution_count": 185
    }
   ],
   "source": [
    "my_dict['key1']"
   ],
   "metadata": {
    "collapsed": false,
    "pycharm": {
     "name": "#%%\n",
     "is_executing": false
    }
   }
  },
  {
   "cell_type": "code",
   "execution_count": 186,
   "outputs": [
    {
     "data": {
      "text/plain": "{'key1': 'value1', 'key2': 'value2', 'key3': 'value3'}"
     },
     "metadata": {},
     "output_type": "execute_result",
     "execution_count": 186
    }
   ],
   "source": [
    "my_dict['key3'] = 'value3'\n",
    "my_dict"
   ],
   "metadata": {
    "collapsed": false,
    "pycharm": {
     "name": "#%%\n",
     "is_executing": false
    }
   }
  },
  {
   "cell_type": "code",
   "execution_count": 187,
   "outputs": [
    {
     "data": {
      "text/plain": "dict_keys(['key1', 'key2', 'key3'])"
     },
     "metadata": {},
     "output_type": "execute_result",
     "execution_count": 187
    }
   ],
   "source": [
    "my_dict.keys()"
   ],
   "metadata": {
    "collapsed": false,
    "pycharm": {
     "name": "#%%\n",
     "is_executing": false
    }
   }
  },
  {
   "cell_type": "code",
   "execution_count": 188,
   "outputs": [
    {
     "data": {
      "text/plain": "dict_values(['value1', 'value2', 'value3'])"
     },
     "metadata": {},
     "output_type": "execute_result",
     "execution_count": 188
    }
   ],
   "source": [
    "my_dict.values()"
   ],
   "metadata": {
    "collapsed": false,
    "pycharm": {
     "name": "#%%\n",
     "is_executing": false
    }
   }
  },
  {
   "cell_type": "code",
   "execution_count": 189,
   "outputs": [
    {
     "data": {
      "text/plain": "dict_items([('key1', 'value1'), ('key2', 'value2'), ('key3', 'value3')])"
     },
     "metadata": {},
     "output_type": "execute_result",
     "execution_count": 189
    }
   ],
   "source": [
    "my_dict.items()"
   ],
   "metadata": {
    "collapsed": false,
    "pycharm": {
     "name": "#%%\n",
     "is_executing": false
    }
   }
  },
  {
   "cell_type": "markdown",
   "source": [
    "### Tuples\n",
    "Very similar to list but immutable"
   ],
   "metadata": {
    "collapsed": false
   }
  },
  {
   "cell_type": "code",
   "execution_count": 190,
   "outputs": [
    {
     "data": {
      "text/plain": "(1, 2, 3)"
     },
     "metadata": {},
     "output_type": "execute_result",
     "execution_count": 190
    }
   ],
   "source": [
    "my_tuple = (1, 2, 3)\n",
    "my_tuple"
   ],
   "metadata": {
    "collapsed": false,
    "pycharm": {
     "name": "#%%\n",
     "is_executing": false
    }
   }
  },
  {
   "cell_type": "code",
   "execution_count": 191,
   "outputs": [
    {
     "data": {
      "text/plain": "1"
     },
     "metadata": {},
     "output_type": "execute_result",
     "execution_count": 191
    }
   ],
   "source": [
    "my_tuple[0]"
   ],
   "metadata": {
    "collapsed": false,
    "pycharm": {
     "name": "#%%\n",
     "is_executing": false
    }
   }
  },
  {
   "cell_type": "code",
   "execution_count": 192,
   "outputs": [
    {
     "data": {
      "text/plain": "(2, 3)"
     },
     "metadata": {},
     "output_type": "execute_result",
     "execution_count": 192
    }
   ],
   "source": [
    "my_tuple[1:]"
   ],
   "metadata": {
    "collapsed": false,
    "pycharm": {
     "name": "#%%\n",
     "is_executing": false
    }
   }
  },
  {
   "cell_type": "markdown",
   "source": [
    "### Sets\n",
    "Unordered collection of unique elements"
   ],
   "metadata": {
    "collapsed": false
   }
  },
  {
   "cell_type": "code",
   "execution_count": 193,
   "outputs": [
    {
     "data": {
      "text/plain": "set()"
     },
     "metadata": {},
     "output_type": "execute_result",
     "execution_count": 193
    }
   ],
   "source": [
    "my_set = set()\n",
    "my_set"
   ],
   "metadata": {
    "collapsed": false,
    "pycharm": {
     "name": "#%%\n",
     "is_executing": false
    }
   }
  },
  {
   "cell_type": "code",
   "execution_count": 194,
   "outputs": [
    {
     "data": {
      "text/plain": "{1}"
     },
     "metadata": {},
     "output_type": "execute_result",
     "execution_count": 194
    }
   ],
   "source": [
    "my_set.add(1)\n",
    "my_set"
   ],
   "metadata": {
    "collapsed": false,
    "pycharm": {
     "name": "#%%\n",
     "is_executing": false
    }
   }
  },
  {
   "cell_type": "code",
   "execution_count": 195,
   "outputs": [
    {
     "data": {
      "text/plain": "{1, 2}"
     },
     "metadata": {},
     "output_type": "execute_result",
     "execution_count": 195
    }
   ],
   "source": [
    "my_set.add(2)\n",
    "my_set"
   ],
   "metadata": {
    "collapsed": false,
    "pycharm": {
     "name": "#%%\n",
     "is_executing": false
    }
   }
  },
  {
   "cell_type": "code",
   "execution_count": 196,
   "outputs": [
    {
     "data": {
      "text/plain": "{1, 2}"
     },
     "metadata": {},
     "output_type": "execute_result",
     "execution_count": 196
    }
   ],
   "source": [
    "my_set.add(2) # 2 already present in the set\n",
    "my_set"
   ],
   "metadata": {
    "collapsed": false,
    "pycharm": {
     "name": "#%%\n",
     "is_executing": false
    }
   }
  },
  {
   "cell_type": "code",
   "execution_count": 197,
   "outputs": [
    {
     "data": {
      "text/plain": "{1, 2, 3}"
     },
     "metadata": {},
     "output_type": "execute_result",
     "execution_count": 197
    }
   ],
   "source": [
    "list_to_set = [1, 1, 1, 2, 2, 3, 3, 3, 3]\n",
    "set(list_to_set)"
   ],
   "metadata": {
    "collapsed": false,
    "pycharm": {
     "name": "#%%\n",
     "is_executing": false
    }
   }
  },
  {
   "cell_type": "markdown",
   "source": [
    "### I/O"
   ],
   "metadata": {
    "collapsed": false
   }
  },
  {
   "cell_type": "code",
   "execution_count": 198,
   "outputs": [
    {
     "name": "stdout",
     "text": [
      "Overwriting test.txt\n"
     ],
     "output_type": "stream"
    }
   ],
   "source": [
    "%%writefile test.txt\n",
    "Hello this is a text file\n",
    "this is the second line\n",
    "this is the third line"
   ],
   "metadata": {
    "collapsed": false,
    "pycharm": {
     "name": "#%%\n",
     "is_executing": false
    }
   }
  },
  {
   "cell_type": "code",
   "execution_count": 199,
   "outputs": [],
   "source": [
    "my_file = open('test.txt')"
   ],
   "metadata": {
    "collapsed": false,
    "pycharm": {
     "name": "#%%\n",
     "is_executing": false
    }
   }
  },
  {
   "cell_type": "code",
   "execution_count": 200,
   "outputs": [
    {
     "data": {
      "text/plain": "'Hello this is a text file\\nthis is the second line\\nthis is the third line\\n\\n'"
     },
     "metadata": {},
     "output_type": "execute_result",
     "execution_count": 200
    }
   ],
   "source": [
    "my_file.read()"
   ],
   "metadata": {
    "collapsed": false,
    "pycharm": {
     "name": "#%%\n",
     "is_executing": false
    }
   }
  },
  {
   "cell_type": "code",
   "execution_count": 201,
   "outputs": [
    {
     "data": {
      "text/plain": "''"
     },
     "metadata": {},
     "output_type": "execute_result",
     "execution_count": 201
    }
   ],
   "source": [
    "my_file.read()"
   ],
   "metadata": {
    "collapsed": false,
    "pycharm": {
     "name": "#%%\n",
     "is_executing": false
    }
   }
  },
  {
   "cell_type": "code",
   "execution_count": 202,
   "outputs": [
    {
     "data": {
      "text/plain": "0"
     },
     "metadata": {},
     "output_type": "execute_result",
     "execution_count": 202
    }
   ],
   "source": [
    "my_file.seek(0) # Because the cursor is at the end of the file"
   ],
   "metadata": {
    "collapsed": false,
    "pycharm": {
     "name": "#%%\n",
     "is_executing": false
    }
   }
  },
  {
   "cell_type": "code",
   "execution_count": 203,
   "outputs": [
    {
     "data": {
      "text/plain": "'Hello this is a text file\\nthis is the second line\\nthis is the third line\\n\\n'"
     },
     "metadata": {},
     "output_type": "execute_result",
     "execution_count": 203
    }
   ],
   "source": [
    "my_file.read()"
   ],
   "metadata": {
    "collapsed": false,
    "pycharm": {
     "name": "#%%\n",
     "is_executing": false
    }
   }
  },
  {
   "cell_type": "code",
   "execution_count": 204,
   "outputs": [],
   "source": [
    "my_file.close() # Always close file"
   ],
   "metadata": {
    "collapsed": false,
    "pycharm": {
     "name": "#%%\n",
     "is_executing": false
    }
   }
  },
  {
   "cell_type": "code",
   "execution_count": 205,
   "outputs": [],
   "source": [
    "with open('test.txt') as myfile:\n",
    "    myfile.read()"
   ],
   "metadata": {
    "collapsed": false,
    "pycharm": {
     "name": "#%%\n",
     "is_executing": false
    }
   }
  }
 ],
 "metadata": {
  "kernelspec": {
   "display_name": "Python 3",
   "language": "python",
   "name": "python3"
  },
  "language_info": {
   "codemirror_mode": {
    "name": "ipython",
    "version": 3
   },
   "file_extension": ".py",
   "mimetype": "text/x-python",
   "name": "python",
   "nbconvert_exporter": "python",
   "pygments_lexer": "ipython3",
   "version": "3.7.3"
  },
  "pycharm": {
   "stem_cell": {
    "cell_type": "raw",
    "source": [],
    "metadata": {
     "collapsed": false
    }
   }
  }
 },
 "nbformat": 4,
 "nbformat_minor": 1
}